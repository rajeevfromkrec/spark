{
  "nbformat": 4,
  "nbformat_minor": 0,
  "metadata": {
    "colab": {
      "name": "Spark sql session on colab.ipynb",
      "provenance": [],
      "authorship_tag": "ABX9TyO2y+chqNTik7/j8SndXGgg",
      "include_colab_link": true
    },
    "kernelspec": {
      "name": "python3",
      "display_name": "Python 3"
    }
  },
  "cells": [
    {
      "cell_type": "markdown",
      "metadata": {
        "id": "view-in-github",
        "colab_type": "text"
      },
      "source": [
        "<a href=\"https://colab.research.google.com/github/rajeevfromkrec/spark/blob/master/Spark_sql_session_on_colab.ipynb\" target=\"_parent\"><img src=\"https://colab.research.google.com/assets/colab-badge.svg\" alt=\"Open In Colab\"/></a>"
      ]
    },
    {
      "cell_type": "code",
      "metadata": {
        "colab": {
          "base_uri": "https://localhost:8080/"
        },
        "id": "4w3161pGjfLI",
        "outputId": "983b10ea-f9b0-40cf-97c6-823e3efcb0ca"
      },
      "source": [
        "\n",
        "\n",
        "!pip install pyspark"
      ],
      "execution_count": 1,
      "outputs": [
        {
          "output_type": "stream",
          "text": [
            "Collecting pyspark\n",
            "\u001b[?25l  Downloading https://files.pythonhosted.org/packages/f0/26/198fc8c0b98580f617cb03cb298c6056587b8f0447e20fa40c5b634ced77/pyspark-3.0.1.tar.gz (204.2MB)\n",
            "\u001b[K     |████████████████████████████████| 204.2MB 62kB/s \n",
            "\u001b[?25hCollecting py4j==0.10.9\n",
            "\u001b[?25l  Downloading https://files.pythonhosted.org/packages/9e/b6/6a4fb90cd235dc8e265a6a2067f2a2c99f0d91787f06aca4bcf7c23f3f80/py4j-0.10.9-py2.py3-none-any.whl (198kB)\n",
            "\u001b[K     |████████████████████████████████| 204kB 35.7MB/s \n",
            "\u001b[?25hBuilding wheels for collected packages: pyspark\n",
            "  Building wheel for pyspark (setup.py) ... \u001b[?25l\u001b[?25hdone\n",
            "  Created wheel for pyspark: filename=pyspark-3.0.1-py2.py3-none-any.whl size=204612243 sha256=fc1796d2e016662df946d807d8d054c68d75736a39ef5840061b0d04591e7a5b\n",
            "  Stored in directory: /root/.cache/pip/wheels/5e/bd/07/031766ca628adec8435bb40f0bd83bb676ce65ff4007f8e73f\n",
            "Successfully built pyspark\n",
            "Installing collected packages: py4j, pyspark\n",
            "Successfully installed py4j-0.10.9 pyspark-3.0.1\n"
          ],
          "name": "stdout"
        }
      ]
    },
    {
      "cell_type": "code",
      "metadata": {
        "id": "_vlj_XQSjhXo"
      },
      "source": [
        "from pyspark.sql import SparkSession\n",
        "spark = SparkSession.builder.master('local').getOrCreate()"
      ],
      "execution_count": 2,
      "outputs": []
    },
    {
      "cell_type": "code",
      "metadata": {
        "colab": {
          "base_uri": "https://localhost:8080/"
        },
        "id": "d8Em4NQgjufN",
        "outputId": "449e108e-7210-4120-c797-6efdcdd03ed6"
      },
      "source": [
        "!wget https://www.stats.govt.nz/assets/Uploads/Annual-enterprise-survey/Annual-enterprise-survey-2019-financial-year-provisional/Download-data/annual-enterprise-survey-2019-financial-year-provisional-csv.csv"
      ],
      "execution_count": 3,
      "outputs": [
        {
          "output_type": "stream",
          "text": [
            "--2020-12-02 17:47:10--  https://www.stats.govt.nz/assets/Uploads/Annual-enterprise-survey/Annual-enterprise-survey-2019-financial-year-provisional/Download-data/annual-enterprise-survey-2019-financial-year-provisional-csv.csv\n",
            "Resolving www.stats.govt.nz (www.stats.govt.nz)... 45.60.11.104\n",
            "Connecting to www.stats.govt.nz (www.stats.govt.nz)|45.60.11.104|:443... connected.\n",
            "HTTP request sent, awaiting response... 200 OK\n",
            "Length: 5134576 (4.9M) [text/csv]\n",
            "Saving to: ‘annual-enterprise-survey-2019-financial-year-provisional-csv.csv’\n",
            "\n",
            "annual-enterprise-s 100%[===================>]   4.90M  2.80MB/s    in 1.7s    \n",
            "\n",
            "2020-12-02 17:47:13 (2.80 MB/s) - ‘annual-enterprise-survey-2019-financial-year-provisional-csv.csv’ saved [5134576/5134576]\n",
            "\n"
          ],
          "name": "stdout"
        }
      ]
    },
    {
      "cell_type": "code",
      "metadata": {
        "colab": {
          "base_uri": "https://localhost:8080/"
        },
        "id": "OdOB8bElkKje",
        "outputId": "c3d73877-30ff-4a0b-b2a9-67fd8944d4bc"
      },
      "source": [
        "!ls"
      ],
      "execution_count": 4,
      "outputs": [
        {
          "output_type": "stream",
          "text": [
            "annual-enterprise-survey-2019-financial-year-provisional-csv.csv  sample_data\n"
          ],
          "name": "stdout"
        }
      ]
    },
    {
      "cell_type": "code",
      "metadata": {
        "id": "CtGbZWEAkMiQ"
      },
      "source": [
        "mv annual-enterprise-survey-2019-financial-year-provisional-csv.csv financial_data.csv"
      ],
      "execution_count": 5,
      "outputs": []
    },
    {
      "cell_type": "code",
      "metadata": {
        "colab": {
          "base_uri": "https://localhost:8080/"
        },
        "id": "ML31w3dFkTQj",
        "outputId": "ceddfe85-22b3-4778-8cc1-5850b706ef79"
      },
      "source": [
        "!ls"
      ],
      "execution_count": 6,
      "outputs": [
        {
          "output_type": "stream",
          "text": [
            "financial_data.csv  sample_data\n"
          ],
          "name": "stdout"
        }
      ]
    },
    {
      "cell_type": "code",
      "metadata": {
        "colab": {
          "base_uri": "https://localhost:8080/"
        },
        "id": "I50Tt9wPkUer",
        "outputId": "dcd29995-a013-4aa4-a9f9-45c4dda4c721"
      },
      "source": [
        "!head financial_data.csv"
      ],
      "execution_count": 7,
      "outputs": [
        {
          "output_type": "stream",
          "text": [
            "Year,Industry_aggregation_NZSIOC,Industry_code_NZSIOC,Industry_name_NZSIOC,Units,Variable_code,Variable_name,Variable_category,Value,Industry_code_ANZSIC06\r\n",
            "2019,Level 1,99999,All industries,Dollars (millions),H01,Total income,Financial performance,\"728,239\",\"ANZSIC06 divisions A-S (excluding classes K6330, L6711, O7552, O760, O771, O772, S9540, S9601, S9602, and S9603)\"\r\n",
            "2019,Level 1,99999,All industries,Dollars (millions),H04,\"Sales, government funding, grants and subsidies\",Financial performance,\"643,809\",\"ANZSIC06 divisions A-S (excluding classes K6330, L6711, O7552, O760, O771, O772, S9540, S9601, S9602, and S9603)\"\r\n",
            "2019,Level 1,99999,All industries,Dollars (millions),H05,\"Interest, dividends and donations\",Financial performance,\"62,924\",\"ANZSIC06 divisions A-S (excluding classes K6330, L6711, O7552, O760, O771, O772, S9540, S9601, S9602, and S9603)\"\r\n",
            "2019,Level 1,99999,All industries,Dollars (millions),H07,Non-operating income,Financial performance,\"21,505\",\"ANZSIC06 divisions A-S (excluding classes K6330, L6711, O7552, O760, O771, O772, S9540, S9601, S9602, and S9603)\"\r\n",
            "2019,Level 1,99999,All industries,Dollars (millions),H08,Total expenditure,Financial performance,\"634,710\",\"ANZSIC06 divisions A-S (excluding classes K6330, L6711, O7552, O760, O771, O772, S9540, S9601, S9602, and S9603)\"\r\n",
            "2019,Level 1,99999,All industries,Dollars (millions),H09,Interest and donations,Financial performance,\"35,250\",\"ANZSIC06 divisions A-S (excluding classes K6330, L6711, O7552, O760, O771, O772, S9540, S9601, S9602, and S9603)\"\r\n",
            "2019,Level 1,99999,All industries,Dollars (millions),H10,Indirect taxes,Financial performance,\"7,458\",\"ANZSIC06 divisions A-S (excluding classes K6330, L6711, O7552, O760, O771, O772, S9540, S9601, S9602, and S9603)\"\r\n",
            "2019,Level 1,99999,All industries,Dollars (millions),H11,Depreciation,Financial performance,\"20,977\",\"ANZSIC06 divisions A-S (excluding classes K6330, L6711, O7552, O760, O771, O772, S9540, S9601, S9602, and S9603)\"\r\n",
            "2019,Level 1,99999,All industries,Dollars (millions),H12,Salaries and wages paid,Financial performance,\"112,960\",\"ANZSIC06 divisions A-S (excluding classes K6330, L6711, O7552, O760, O771, O772, S9540, S9601, S9602, and S9603)\"\r\n"
          ],
          "name": "stdout"
        }
      ]
    },
    {
      "cell_type": "code",
      "metadata": {
        "id": "IMwNSdEqkZi1"
      },
      "source": [
        "df= spark.read.csv('financial_data.csv', header=True)"
      ],
      "execution_count": 8,
      "outputs": []
    },
    {
      "cell_type": "code",
      "metadata": {
        "colab": {
          "base_uri": "https://localhost:8080/"
        },
        "id": "8aL7H1tVkjmj",
        "outputId": "89b07b09-edb1-415c-e49a-041e527381e9"
      },
      "source": [
        "df.show()"
      ],
      "execution_count": 10,
      "outputs": [
        {
          "output_type": "stream",
          "text": [
            "+----+---------------------------+--------------------+--------------------+------------------+-------------+--------------------+--------------------+---------+----------------------+\n",
            "|Year|Industry_aggregation_NZSIOC|Industry_code_NZSIOC|Industry_name_NZSIOC|             Units|Variable_code|       Variable_name|   Variable_category|    Value|Industry_code_ANZSIC06|\n",
            "+----+---------------------------+--------------------+--------------------+------------------+-------------+--------------------+--------------------+---------+----------------------+\n",
            "|2019|                    Level 1|               99999|      All industries|Dollars (millions)|          H01|        Total income|Financial perform...|  728,239|  ANZSIC06 division...|\n",
            "|2019|                    Level 1|               99999|      All industries|Dollars (millions)|          H04|Sales, government...|Financial perform...|  643,809|  ANZSIC06 division...|\n",
            "|2019|                    Level 1|               99999|      All industries|Dollars (millions)|          H05|Interest, dividen...|Financial perform...|   62,924|  ANZSIC06 division...|\n",
            "|2019|                    Level 1|               99999|      All industries|Dollars (millions)|          H07|Non-operating income|Financial perform...|   21,505|  ANZSIC06 division...|\n",
            "|2019|                    Level 1|               99999|      All industries|Dollars (millions)|          H08|   Total expenditure|Financial perform...|  634,710|  ANZSIC06 division...|\n",
            "|2019|                    Level 1|               99999|      All industries|Dollars (millions)|          H09|Interest and dona...|Financial perform...|   35,250|  ANZSIC06 division...|\n",
            "|2019|                    Level 1|               99999|      All industries|Dollars (millions)|          H10|      Indirect taxes|Financial perform...|    7,458|  ANZSIC06 division...|\n",
            "|2019|                    Level 1|               99999|      All industries|Dollars (millions)|          H11|        Depreciation|Financial perform...|   20,977|  ANZSIC06 division...|\n",
            "|2019|                    Level 1|               99999|      All industries|Dollars (millions)|          H12|Salaries and wage...|Financial perform...|  112,960|  ANZSIC06 division...|\n",
            "|2019|                    Level 1|               99999|      All industries|Dollars (millions)|          H13|Redundancy and se...|Financial perform...|      206|  ANZSIC06 division...|\n",
            "|2019|                    Level 1|               99999|      All industries|Dollars (millions)|          H14|Salaries and wage...|Financial perform...|    1,767|  ANZSIC06 division...|\n",
            "|2019|                    Level 1|               99999|      All industries|Dollars (millions)|          H19|Purchases and oth...|Financial perform...|  445,481|  ANZSIC06 division...|\n",
            "|2019|                    Level 1|               99999|      All industries|Dollars (millions)|          H20|Non-operating exp...|Financial perform...|   10,817|  ANZSIC06 division...|\n",
            "|2019|                    Level 1|               99999|      All industries|Dollars (millions)|          H21|      Opening stocks|Financial perform...|   63,932|  ANZSIC06 division...|\n",
            "|2019|                    Level 1|               99999|      All industries|Dollars (millions)|          H22|      Closing stocks|Financial perform...|   67,518|  ANZSIC06 division...|\n",
            "|2019|                    Level 1|               99999|      All industries|Dollars (millions)|          H23|Surplus before in...|Financial perform...|   97,114|  ANZSIC06 division...|\n",
            "|2019|                    Level 1|               99999|      All industries|Dollars (millions)|          H24|        Total assets|  Financial position|2,216,127|  ANZSIC06 division...|\n",
            "|2019|                    Level 1|               99999|      All industries|Dollars (millions)|          H25|      Current assets|  Financial position|  612,930|  ANZSIC06 division...|\n",
            "|2019|                    Level 1|               99999|      All industries|Dollars (millions)|          H26|Fixed tangible as...|  Financial position|  535,710|  ANZSIC06 division...|\n",
            "|2019|                    Level 1|               99999|      All industries|Dollars (millions)|          H29|        Other assets|  Financial position|1,067,488|  ANZSIC06 division...|\n",
            "+----+---------------------------+--------------------+--------------------+------------------+-------------+--------------------+--------------------+---------+----------------------+\n",
            "only showing top 20 rows\n",
            "\n"
          ],
          "name": "stdout"
        }
      ]
    },
    {
      "cell_type": "code",
      "metadata": {
        "colab": {
          "base_uri": "https://localhost:8080/"
        },
        "id": "iuGq-QYckpVs",
        "outputId": "1f83365c-847d-4cc6-93a4-db2a4feef1f3"
      },
      "source": [
        "df.printSchema()"
      ],
      "execution_count": 11,
      "outputs": [
        {
          "output_type": "stream",
          "text": [
            "root\n",
            " |-- Year: string (nullable = true)\n",
            " |-- Industry_aggregation_NZSIOC: string (nullable = true)\n",
            " |-- Industry_code_NZSIOC: string (nullable = true)\n",
            " |-- Industry_name_NZSIOC: string (nullable = true)\n",
            " |-- Units: string (nullable = true)\n",
            " |-- Variable_code: string (nullable = true)\n",
            " |-- Variable_name: string (nullable = true)\n",
            " |-- Variable_category: string (nullable = true)\n",
            " |-- Value: string (nullable = true)\n",
            " |-- Industry_code_ANZSIC06: string (nullable = true)\n",
            "\n"
          ],
          "name": "stdout"
        }
      ]
    },
    {
      "cell_type": "code",
      "metadata": {
        "id": "0H5pIf-alY6a"
      },
      "source": [
        "df.createOrReplaceTempView('fintable')"
      ],
      "execution_count": 19,
      "outputs": []
    },
    {
      "cell_type": "code",
      "metadata": {
        "colab": {
          "base_uri": "https://localhost:8080/"
        },
        "id": "w7N18znzmmhl",
        "outputId": "4a51d3e4-f11c-4fdd-cae1-6f72fbc96c0a"
      },
      "source": [
        "spark.sql(\"\"\" select count(*) from fintable \"\"\").show()"
      ],
      "execution_count": 21,
      "outputs": [
        {
          "output_type": "stream",
          "text": [
            "+--------+\n",
            "|count(1)|\n",
            "+--------+\n",
            "|   32445|\n",
            "+--------+\n",
            "\n"
          ],
          "name": "stdout"
        }
      ]
    },
    {
      "cell_type": "code",
      "metadata": {
        "colab": {
          "base_uri": "https://localhost:8080/"
        },
        "id": "QFLvXEqGmw1o",
        "outputId": "07a09504-3e34-4297-982b-449ad0d0ab14"
      },
      "source": [
        "spark.sql(\"\"\" select Variable_code,count(*)  from fintable group by Variable_code \"\"\").show()"
      ],
      "execution_count": 25,
      "outputs": [
        {
          "output_type": "stream",
          "text": [
            "+-------------+--------+\n",
            "|Variable_code|count(1)|\n",
            "+-------------+--------+\n",
            "|          H37|     938|\n",
            "|          H34|     889|\n",
            "|          H18|     364|\n",
            "|          H14|     119|\n",
            "|          H07|     973|\n",
            "|          H08|     973|\n",
            "|          H13|     973|\n",
            "|          H31|     973|\n",
            "|          H03|     364|\n",
            "|          H10|     973|\n",
            "|          H29|     938|\n",
            "|          H41|     973|\n",
            "|          H19|     609|\n",
            "|          H35|     889|\n",
            "|          H20|     973|\n",
            "|          H04|     546|\n",
            "|          H22|     973|\n",
            "|          H25|     938|\n",
            "|          H39|     973|\n",
            "|          H11|     973|\n",
            "+-------------+--------+\n",
            "only showing top 20 rows\n",
            "\n"
          ],
          "name": "stdout"
        }
      ]
    },
    {
      "cell_type": "code",
      "metadata": {
        "id": "2UeHVVzPoFdx"
      },
      "source": [
        ""
      ],
      "execution_count": null,
      "outputs": []
    }
  ]
}